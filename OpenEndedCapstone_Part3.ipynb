{
  "nbformat": 4,
  "nbformat_minor": 0,
  "metadata": {
    "colab": {
      "name": "OpenEndedCapstone-Part3.ipynb",
      "provenance": [],
      "authorship_tag": "ABX9TyNBF9WHhbNsDzxrW0Z/6wfa",
      "include_colab_link": true
    },
    "kernelspec": {
      "name": "python3",
      "display_name": "Python 3"
    },
    "language_info": {
      "name": "python"
    },
    "accelerator": "GPU"
  },
  "cells": [
    {
      "cell_type": "markdown",
      "metadata": {
        "id": "view-in-github",
        "colab_type": "text"
      },
      "source": [
        "<a href=\"https://colab.research.google.com/github/guptakshay21/OpenEnded/blob/main/OpenEndedCapstone_Part3.ipynb\" target=\"_parent\"><img src=\"https://colab.research.google.com/assets/colab-badge.svg\" alt=\"Open In Colab\"/></a>"
      ]
    },
    {
      "cell_type": "markdown",
      "metadata": {
        "id": "-PuSA21-bE7d"
      },
      "source": [
        "#Import Packages"
      ]
    },
    {
      "cell_type": "code",
      "metadata": {
        "id": "AQlm6Y-aZ9br"
      },
      "source": [
        "from urllib.request import urlopen, Request\n",
        "#from bs4 import BeautifulSoup\n",
        "from zipfile import ZipFile\n",
        "#import os"
      ],
      "execution_count": null,
      "outputs": []
    },
    {
      "cell_type": "markdown",
      "metadata": {
        "id": "hnt4B-kVmhBo"
      },
      "source": [
        "## Change directory for Virat Dataset download"
      ]
    },
    {
      "cell_type": "code",
      "metadata": {
        "id": "3VWzo2kvnXz6"
      },
      "source": [
        "#os.chdir('/volumes/LaCie SSD/')"
      ],
      "execution_count": null,
      "outputs": []
    },
    {
      "cell_type": "markdown",
      "metadata": {
        "id": "e4zeezjda7-K"
      },
      "source": [
        "# Specify url: url"
      ]
    },
    {
      "cell_type": "code",
      "metadata": {
        "id": "DQVP6jX8aWNl"
      },
      "source": [
        "base_url = \"https://data.kitware.com/\"\n",
        "zipurl = base_url +  '/' + 'api/v1/folder/56f57e748d777f753209bed7/download'"
      ],
      "execution_count": null,
      "outputs": []
    },
    {
      "cell_type": "markdown",
      "metadata": {
        "id": "A1O8iQeMbJr5"
      },
      "source": [
        "# Download, Extract, save the files"
      ]
    },
    {
      "cell_type": "code",
      "metadata": {
        "id": "fd1cmTqFmIUw"
      },
      "source": [
        " # Download the file from the URL\n",
        "r = urlopen(zipurl)\n",
        "tempzip = open(\"/tmp/tempfile.zip\", \"wb\")\n",
        "\n",
        "# Write the contents of the downloaded file into the new file\n",
        "tempzip.write(r.read())\n",
        "\n",
        "# Close the newly-created file\n",
        "tempzip.close()\n",
        "\n",
        "# Re-open the newly-created file with ZipFile()\n",
        "zf = ZipFile(\"/tmp/tempfile.zip\")\n",
        "\n",
        "# Extract its contents into <extraction_path>\n",
        "# extractall will automatically create the path\n",
        "zf.extractall(path = '<extraction_path>')\n",
        "# close the ZipFile instance\n",
        "zf.close()"
      ],
      "execution_count": null,
      "outputs": []
    }
  ]
}